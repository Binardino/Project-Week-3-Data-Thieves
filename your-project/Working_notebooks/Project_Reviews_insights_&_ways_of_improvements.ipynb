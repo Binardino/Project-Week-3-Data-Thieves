{
 "cells": [
  {
   "cell_type": "markdown",
   "metadata": {},
   "source": [
    "# Goals of the project"
   ]
  },
  {
   "cell_type": "markdown",
   "metadata": {},
   "source": [
    "The project aimed at collecting data from several AirBnB datasets in order to analyze the impact of several important events in Barcelona (mainly the Mobile World Congress) over the prices in AirBnB hosts over all main neighbourhoods of Barcelona.\n",
    "\n",
    "With the extraction of several datasets of the city, we created ad hoc tables, centralizing informations over the evolution of prices of over 20K AirBnB locations (on 2018 & 2019) and the key informations of those 20K AirBnB hosts (number of appartments rented, locations etc.).\n",
    "\n",
    "With Tableau & Pandas visualizations, we created an ad hoc study summarizing key informations over the . The study clearly highlights the strong impact of MWC  as a key event on the important rises of prices of AirBnB."
   ]
  },
  {
   "cell_type": "markdown",
   "metadata": {},
   "source": [
    "# Data Collection"
   ]
  },
  {
   "cell_type": "markdown",
   "metadata": {},
   "source": [
    "#### 4 step data pipeline scheme"
   ]
  },
  {
   "cell_type": "markdown",
   "metadata": {},
   "source": [
    "# cf. Data_pipeline file for details on the collection process. Here after a simplified version of the pipeline\n",
    "\n",
    "Following the 4 steps process of collecting data with Acquisition, Wrangling, Analysis & Reporting, the data pipeline acquires the data, mainly from insideairbnb.com, and merges automatically different tables (calendar, host listings) over a single host_id key, and keep only key columns needed for the study, in order to create a new table suited to the study's needs.\n",
    "\n",
    "The main challenge consisted in collecting & mixing up several datasets, cleaning the data and outputing an exploitable dataset.\n",
    "\n",
    "Moreover, as the AirBnB API is a closed API, reserved exclusively to hosts (host authorization required), which outputs only own host's data, and not overall data of the studied city, we gathered our data from CSV available online.\n",
    "We completed our data collection with several web scrapping operations, aiming at collecting key data over Barcelona's general touristic occupation.\n",
    "\n",
    "def acquire_calendar(url_calendar):\n",
    "    \"\"\"\n",
    "    Input : give url for calendar & host listings\n",
    "    Output : return raw data frame for calendar & host listings to be cleansed\n",
    "    \"\"\"\n",
    "    airbnb_calendar = pd.read_csv(url_calendar)\n",
    "    return airbnb_calendar\n",
    "\n",
    "def acquire_listing(url_listing):\n",
    "    \"\"\"\n",
    "    Input : give url for calendar & host listings\n",
    "    Output : return raw data frame for calendar & host listings to be cleansed\n",
    "    \"\"\"\n",
    "    airbnb_listing = pd.read_csv(url_listing)\n",
    "    return airbnb_listing\n",
    "\n",
    "def wrangle(airbnb_calendar, airbnb_listing):\n",
    "    \"\"\"\n",
    "    Input : give two df airbnb_listing & airbnb_calendar\n",
    "    Output : return cleansed merged data frame\n",
    "    \"\"\"\n",
    "    #merging tables together\n",
    "    table_neighborhood_raw = pd.DataFrame.merge(airbnb_calendar, airbnb_listing, left_on = 'listing_id', right_on = 'id')\n",
    "def analyze(table_neighborhoods):\n",
    "    \"\"\"\n",
    "    Input : give table to analyze\n",
    "    Output : return light version of the table with only 'Entire home' room type\n",
    "    \"\"\"   \n",
    "    #droping useless column room_type\n",
    "    table_neighborhoods.drop(columns=['room_type'], inplace = True)\n",
    "    table_neighborhoods_3000 = table_neighborhoods.loc[table_neighborhoods[\"price_x\"] < 3000]\n",
    "    return table_neighborhoods_3000\n",
    "\n",
    "def save_report(table_neighborhoods_3000, file_name):\n",
    "    print('the merged & cleansed table has been created, now we need to save it in a .csv')\n",
    "    \n",
    "    table_neighborhoods_3000.to_csv('r' + file_name +'.csv')\n",
    "\n",
    "\n",
    "if __name__ == '__main__':\n",
    "    print('today we are going to extract one year of BCN AirBnb data !')\n",
    "    print('hello mates')\n",
    "\n",
    "    airbnb_calendar = acquire_calendar(url_calendar)\n",
    "    airbnb_listing = acquire_listing(url_listing)\n",
    "    #Wrangling\n",
    "    table_neighborhood_filtered = wrangle(airbnb_calendar, airbnb_listing)\n",
    "\n",
    "    #Analysis\n",
    "    table_neighborhood_clean = analyze(table_neighborhood_filtered)\n",
    "\n",
    "    #reporting\n",
    "    save_report(table_neighborhood_clean, file_name)\n",
    "    \n",
    "    print('Data pipeline completed, have a nice day.')\n"
   ]
  },
  {
   "cell_type": "markdown",
   "metadata": {},
   "source": [
    "### Key findings"
   ]
  },
  {
   "cell_type": "markdown",
   "metadata": {},
   "source": [
    "The study put forward how, in February, a month usually not the most touristic, AirBnB prices rise greatly.\n",
    "What may seems to be an outlier in the overall AirBnB price data, which presents important - and logic - price spikes during summer, highlights in reality the important impact of the MWC as the single event of the year where prices rise the most."
   ]
  },
  {
   "cell_type": "code",
   "execution_count": null,
   "metadata": {},
   "outputs": [],
   "source": []
  }
 ],
 "metadata": {
  "kernelspec": {
   "display_name": "Python 3",
   "language": "python",
   "name": "python3"
  },
  "language_info": {
   "codemirror_mode": {
    "name": "ipython",
    "version": 3
   },
   "file_extension": ".py",
   "mimetype": "text/x-python",
   "name": "python",
   "nbconvert_exporter": "python",
   "pygments_lexer": "ipython3",
   "version": "3.8.0"
  }
 },
 "nbformat": 4,
 "nbformat_minor": 4
}
